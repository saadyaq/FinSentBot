{
 "cells": [
  {
   "cell_type": "code",
   "execution_count": 1,
   "id": "a1b76b2d",
   "metadata": {},
   "outputs": [],
   "source": [
    "import pandas as pd"
   ]
  },
  {
   "cell_type": "code",
   "execution_count": 2,
   "id": "3817ebe1",
   "metadata": {},
   "outputs": [],
   "source": [
    "df=pd.read_csv('/home/saadyaq/SE/Python/finsentbot/data/training_datasets/train.csv')\n"
   ]
  },
  {
   "cell_type": "code",
   "execution_count": 3,
   "id": "cd31f375",
   "metadata": {},
   "outputs": [
    {
     "data": {
      "application/vnd.microsoft.datawrangler.viewer.v0+json": {
       "columns": [
        {
         "name": "index",
         "rawType": "int64",
         "type": "integer"
        },
        {
         "name": "symbol",
         "rawType": "object",
         "type": "string"
        },
        {
         "name": "text",
         "rawType": "object",
         "type": "string"
        },
        {
         "name": "sentiment_score",
         "rawType": "float64",
         "type": "float"
        },
        {
         "name": "price_now",
         "rawType": "float64",
         "type": "float"
        },
        {
         "name": "price_future",
         "rawType": "float64",
         "type": "float"
        },
        {
         "name": "variation",
         "rawType": "float64",
         "type": "float"
        },
        {
         "name": "action",
         "rawType": "object",
         "type": "string"
        }
       ],
       "ref": "cc7c163e-68d5-4740-84db-2bf93e76e33e",
       "rows": [
        [
         "0",
         "APO",
         " James Fontanella-Khanin New York PublishedAugust 18 2025 Roula Khalaf, Editor of the FT, selects her favourite stories in this weekly newsletter. Soho House, the once-edgy London members’ club that turned exclusivity into a global business, is set to retreat from public markets in a deal led by one of the biggest US hotel owners. A group of investors headed by New York-based MCR Hotels — which owns 30,000 guest rooms across the US, including the1960s-themed TWA Hotel at JFK airport— is nearing an agreement to buy out Soho House’s remaining public shareholders at about $9 a share, according to people familiar with the matter. The take-private offer values the company at roughly $1.8bn, excluding debt, and hands investors a premium over Friday’s $7.60 close — though still well shy of the $14 price tag whenSoho House floated in 2021. A deal could be announced as early as this week. Ron Burkle, the club’s billionaire backer who has long controlled the group, will roll over his stake along with other existing investors, people briefed about the matter said. Apollo Global Management, the alternative asset manager, is expected to provide more than $800mn in debt and equity financing, the people added. The deal would draw a line under months of agitation by activist Dan Loeb. His Third Point hedge fund had pressed the board to seek outside suitors to secure a higher valuation. Recommended Soho House’s take-private move comes after the company has struggled as a public company. Last year, New York short sellerGlassHouse slammedwhat it called a “broken business model and terrible accounting”, claiming the group’s expansion into less affluent cities betrayed its brand and masked the fact it had never turned a profit in its 28-year history. Management hit back with an independent review that, it said, found “no material issues” in the company’s books. Over the past few quarters, the business has shown signs of turning a corner. Earlier this month, it reported its third straight quarterly profit. The Wall Street Journal first reported news of the potential deal.",
         "-0.12389999628067",
         "139.39",
         "139.39",
         "0.0",
         "SELL"
        ],
        [
         "1",
         "COST",
         "Tokyo-listedMetaplanet Inc(3350)has acquired an additional 775 bitcoinBTC$115,062.31for 13.73 billion yen(about $94 million), according to its most recent filing. The purchase, made at an average price of 17.72 million yen($120,500)per bitcoin, lifts the company’s total holdings to 18,888 BTC, worth roughly 284.1 billion yen($1.95 billion). This purchase keeps them as the seventh largest bitcoin treasury company. Across all purchases, Metaplanet’s average acquisition cost now stands at 15.04 million yen per BTC($102,100). The company reported a Bitcoin Yield of 29.3% for the latest period, down from 129.4% in Q2. Its multiple to net asset value remains near 2, the lowest since it began its BTC accumulation. The company carries $117 million in outstanding debt, Metaplanet’s leverage is minimal compared to its bitcoin reserves. “Metaplanet now hold $2.18 billion in BTC against just $120 million of outstanding 0% ordinary bonds,” saidDylan LeClair, director of bitcoin strategy. “Our 19th Series Ordinary Bonds are 18.67x over-collateralized by our BTC position, and currently represent the sole liability within our capital structure.” Shares of Metaplanet rose 4% to close at 900 yen on Monday, even as bitcoin slipped to$115,500, reflecting investor confidence in the firm’s balance sheet strategy. James Van Stratenis a Senior Analyst at CoinDesk, specializing in Bitcoin and its interplay with the macroeconomic environment. Previously, James worked as a Research Analyst at Saidler & Co., a Swiss hedge fund, where he developed expertise in on-chain analytics. His work focuses on monitoring flows to analyze Bitcoin's role within the broader financial system. In addition to his professional endeavors, James serves as an advisor to Coinsilium, a UK publicly traded company, where he provides guidance on their Bitcoin treasury strategy. He also holds investments in Bitcoin and Strategy (MSTR). More For You Bitcoin Drops Below $115K Amid Wave of Profit-Taking Approximately, $3.5B of profit realized over the weekend, latest correction trims 7% from ATH. What to know: About Contact",
         "-0.86080002784729",
         "972.15",
         "972.15",
         "0.0",
         "SELL"
        ],
        [
         "2",
         "JPM",
         " Arash Massoudiin London andAkila Quinioin New York PublishedAugust 18 2025 Simply sign up to theUS banksmyFT Digest -- delivered directly to your inbox. Citigroup’s banking chief Vis Raghavan has accelerated a hiring spree of former JPMorgan Chase colleagues, with at least 10 senior investment bankers having now agreed to join the rival US bank. In the past month, Citi has named Amit Nayyar as co-head of European technology banking, Guillermo Baygual as co-head of global M&A, Pankaj Goel as co-head of technology investment banking, BJ Vargas as head of North American equity capital markets and Ashish Agarwal as a senior real estate banker. All five men held senior roles in JPMorgan’s investment bank. Raghavan worked at JPMorgan for more than 20 years, and was named global head of investment banking there before he quit to lead the turnaround of Citi’s corporate, commercial and investment banking business. The latest recruits joina cohort of fiveother ex-JPMorgan bankers who have already taken up senior roles in Citi’s investment bank. Chief among those was Achintya Mangla, widely seen as Raghavan’s trusted lieutenant at JPMorgan, who now heads financing for investment banking at Citi. Raghavan started at Citi in June last year, and the bank’s recruitment effort has gone into overdrive since his non-solicit agreement with JPMorgan expired. David Lomer, who worked with Raghavan until 2022 when he moved to private capital group ICG, is also expected to make the jump to Citi, according to people with knowledge of the matter. Lomer, who served as head of ICG’s UK, Nordics and Benelux markets, has already resigned and is on gardening leave until later this year, some of the people said. ICG and Citi declined to comment. “What’s unusual here is the speed with which it is happening,” one veteran investment banker said about the recruitment drive. “The first thing you are trying to do is upgrade your talent. The second thing is political. You put your people in place so that your lieutenants can push your agenda forward in a large and complex organisation.” Citi has also recruited from outside Raghavan’s former colleagues at JPMorgan, with three senior hires from Goldman Sachs. Those include David Friedland, a partner who left the bank after 25 years to become co-head of North America investment banking coverage. The bank has also brought in Aashish Dhakad from Ares Management, as it seeks to grow its direct lending business through a $25bn private credit venture with Apollo. Citi’s investment bank has gained market share in the last year and ranks fifth globally in investment banking revenue with a 4.5 per cent market share according to Dealogic. Speaking at a conference organised by Morgan Stanley in June, Raghavan attributed the climb to the fact the bank was “hiring a lot of people” and said Citi was “just getting started in terms of talent investment”. Its investment banking fees rose 13 per cent in the second quarter as the bank advised on high-profile deals, including Nippon Steel’s $15bn acquisition of US Steel and Boeing’s sale of parts of its aviation software unit to Thoma Bravo. JPMorgan recently said it has hired more than 300 bankers since early 2024. A person close to the bank added that nearly a third of those roles were at managing director level.",
         "0.161100000143051",
         "290.49",
         "290.49",
         "0.0",
         "BUY"
        ],
        [
         "3",
         "MSFT",
         "Latest AI Amazon Apps Biotech & Health Climate Cloud Computing Commerce Crypto Enterprise EVs Fintech Fundraising Gadgets Gaming Google Government & Policy Hardware Instagram Layoffs Media & Entertainment Meta Microsoft Privacy Robotics Security Social Space Startups TikTok Transportation Venture Staff Events Startup Battlefield StrictlyVC Newsletters Podcasts Videos Partner Content TechCrunch Brand Studio Crunchboard Contact Us Netflix could soon lose the creative team behind one of its biggest hits. Earlier this week, Variety and other Hollywood publications reported that Matt and Ross Duffer, the brothers who created “Stranger Things” (and wrote and directed many episodes), werein talks to sign an exclusive deal with Paramount(nowunder the ownership of David Ellison’s Skydance). Then on Friday evening,Puck’s Matthew Belloni postedthat the Duffers had in fact “made their choice” and were going to Paramount. The Duffer Brothers’ ambition seems to have increased with each season of “Stranger Things,” as episodes have grown longer, set pieces have become more spectacular, and the budget has grown accordingly, witha reported Season 4 cost of $30 million per episode. So it’s not surprising that the Duffers are interested in making big-budget, tentpole movies next — an area where Netflix has struggled, in part due to its thorny relationship with the theatrical business, which co-CEOTed Sarandos recently describedas an “outdated concept.” While Netflix does release some movies in theaters, it has resisted giving those releases a significant exclusive window before launching on streaming, which means Netflix movies usually aren’t shown by the major chains. This was, apparently, a sticking point for “Barbie” director Greta Gerwig, so the first of her “Narnia” movies for Netflix willplay exclusively on Imax screensfor two weeks (or more) before going to streaming on Christmas Day 2026. And it seems this was also important to the Duffers, with Belloni reporting that the “theatrical component” turned out to be the “dealbreaker” in their negotiations. The brothers’ absence will not be immediately noticeable on Netflix, which will be releasing the final season of “Stranger Things” in three (!) parts later this year, and where the Duffers have two new shows scheduled to launch in 2026. Plus, the “Stranger Things” empire is growing, witha prequelplaying on Broadway,an animated seriescoming soon, and a live action spinoff reportedly in the works. Topics Anthony Ha is TechCrunch’s weekend editor. Previously, he worked as a tech reporter at Adweek, a senior editor at VentureBeat, a local government reporter at the Hollister Free Lance, and vice president of content at a VC firm. He lives in New York City. Put your brand in front of 10,000+ tech and VC leaders across all three days of Disrupt 2025. Amplify your reach, spark real connections, and lead the innovation charge. Secure your exhibit space before your competitor does. How your solar rooftop became a national security issue Co-founder of Elon Musk’s xAI departs the company Google CEO adds a new calendar feature at Stripe co-founder’s request NASA has sparked a race to develop the data pipeline to Mars Why I finally left Spotify How a once-tiny research lab helped Nvidia become a $4 trillion-dollar company iOS 26 beta 6 adds new ringtones, snappy app launches, and more © 2025 TechCrunch Media LLC.",
         "-0.86949998140335",
         "520.14",
         "520.14",
         "0.0",
         "SELL"
        ],
        [
         "4",
         "MSFT",
         "Latest AI Amazon Apps Biotech & Health Climate Cloud Computing Commerce Crypto Enterprise EVs Fintech Fundraising Gadgets Gaming Google Government & Policy Hardware Instagram Layoffs Media & Entertainment Meta Microsoft Privacy Robotics Security Social Space Startups TikTok Transportation Venture Staff Events Startup Battlefield StrictlyVC Newsletters Podcasts Videos Partner Content TechCrunch Brand Studio Crunchboard Contact Us Anthropic hasannounced new capabilitiesthat will allow some of its newest, largest models to end conversations in what the company describes as “rare, extreme cases of persistently harmful or abusive user interactions.” Strikingly, Anthropic says it’s doing this not to protect the human user, but rather the AI model itself. To be clear, the company isn’t claiming that its Claude AI models are sentient or can be harmed by their conversations with users. In its own words, Anthropic remains “highly uncertain about the potential moral status of Claude and other LLMs, now or in the future.” However, its announcement points toa recent program created to study what it calls “model welfare” and says Anthropic is essentially taking a just-in-case approach, “working to identify and implement low-cost interventions to mitigate risks to model welfare, in case such welfare is possible.” This latest change is currently limited to Claude Opus 4 and 4.1. And again, it’s only supposed to happen in “extreme edge cases,” such as “requests from users for sexual content involving minors and attempts to solicit information that would enable large-scale violence or acts of terror.” While those types of requests could potentially create legal or publicity problems for Anthropic itself (witness recent reporting around howChatGPT can potentially reinforce or contribute to its users’ delusional thinking), the company says that in pre-deployment testing, Claude Opus 4 showed a “strong preference against” responding to these requests and a “pattern of apparent distress” when it did so. As for these new conversation-ending capabilities, the company says, “In all cases, Claude is only to use its conversation-ending ability as a last resort when multiple attempts at redirection have failed and hope of a productive interaction has been exhausted, or when a user explicitly asks Claude to end a chat.” Anthropic also says Claude has been “directed not to use this ability in cases where users might be at imminent risk of harming themselves or others.” When Claude does end a conversation, Anthropic says users will still be able to start new conversations from the same account, and to create new branches of the troublesome conversation by editing their responses. “We’re treating this feature as an ongoing experiment and will continue refining our approach,” the company says. Topics Anthony Ha is TechCrunch’s weekend editor. Previously, he worked as a tech reporter at Adweek, a senior editor at VentureBeat, a local government reporter at the Hollister Free Lance, and vice president of content at a VC firm. He lives in New York City. Put your brand in front of 10,000+ tech and VC leaders across all three days of Disrupt 2025. Amplify your reach, spark real connections, and lead the innovation charge. Secure your exhibit space before your competitor does. How your solar rooftop became a national security issue Co-founder of Elon Musk’s xAI departs the company Google CEO adds a new calendar feature at Stripe co-founder’s request NASA has sparked a race to develop the data pipeline to Mars Why I finally left Spotify How a once-tiny research lab helped Nvidia become a $4 trillion-dollar company iOS 26 beta 6 adds new ringtones, snappy app launches, and more © 2025 TechCrunch Media LLC.",
         "-0.052200000733137",
         "520.14",
         "520.14",
         "0.0",
         "HOLD"
        ]
       ],
       "shape": {
        "columns": 7,
        "rows": 5
       }
      },
      "text/html": [
       "<div>\n",
       "<style scoped>\n",
       "    .dataframe tbody tr th:only-of-type {\n",
       "        vertical-align: middle;\n",
       "    }\n",
       "\n",
       "    .dataframe tbody tr th {\n",
       "        vertical-align: top;\n",
       "    }\n",
       "\n",
       "    .dataframe thead th {\n",
       "        text-align: right;\n",
       "    }\n",
       "</style>\n",
       "<table border=\"1\" class=\"dataframe\">\n",
       "  <thead>\n",
       "    <tr style=\"text-align: right;\">\n",
       "      <th></th>\n",
       "      <th>symbol</th>\n",
       "      <th>text</th>\n",
       "      <th>sentiment_score</th>\n",
       "      <th>price_now</th>\n",
       "      <th>price_future</th>\n",
       "      <th>variation</th>\n",
       "      <th>action</th>\n",
       "    </tr>\n",
       "  </thead>\n",
       "  <tbody>\n",
       "    <tr>\n",
       "      <th>0</th>\n",
       "      <td>APO</td>\n",
       "      <td>James Fontanella-Khanin New York PublishedAug...</td>\n",
       "      <td>-0.1239</td>\n",
       "      <td>139.39</td>\n",
       "      <td>139.39</td>\n",
       "      <td>0.0</td>\n",
       "      <td>SELL</td>\n",
       "    </tr>\n",
       "    <tr>\n",
       "      <th>1</th>\n",
       "      <td>COST</td>\n",
       "      <td>Tokyo-listedMetaplanet Inc(3350)has acquired a...</td>\n",
       "      <td>-0.8608</td>\n",
       "      <td>972.15</td>\n",
       "      <td>972.15</td>\n",
       "      <td>0.0</td>\n",
       "      <td>SELL</td>\n",
       "    </tr>\n",
       "    <tr>\n",
       "      <th>2</th>\n",
       "      <td>JPM</td>\n",
       "      <td>Arash Massoudiin London andAkila Quinioin New...</td>\n",
       "      <td>0.1611</td>\n",
       "      <td>290.49</td>\n",
       "      <td>290.49</td>\n",
       "      <td>0.0</td>\n",
       "      <td>BUY</td>\n",
       "    </tr>\n",
       "    <tr>\n",
       "      <th>3</th>\n",
       "      <td>MSFT</td>\n",
       "      <td>Latest AI Amazon Apps Biotech &amp; Health Climate...</td>\n",
       "      <td>-0.8695</td>\n",
       "      <td>520.14</td>\n",
       "      <td>520.14</td>\n",
       "      <td>0.0</td>\n",
       "      <td>SELL</td>\n",
       "    </tr>\n",
       "    <tr>\n",
       "      <th>4</th>\n",
       "      <td>MSFT</td>\n",
       "      <td>Latest AI Amazon Apps Biotech &amp; Health Climate...</td>\n",
       "      <td>-0.0522</td>\n",
       "      <td>520.14</td>\n",
       "      <td>520.14</td>\n",
       "      <td>0.0</td>\n",
       "      <td>HOLD</td>\n",
       "    </tr>\n",
       "  </tbody>\n",
       "</table>\n",
       "</div>"
      ],
      "text/plain": [
       "  symbol                                               text  sentiment_score  \\\n",
       "0    APO   James Fontanella-Khanin New York PublishedAug...          -0.1239   \n",
       "1   COST  Tokyo-listedMetaplanet Inc(3350)has acquired a...          -0.8608   \n",
       "2    JPM   Arash Massoudiin London andAkila Quinioin New...           0.1611   \n",
       "3   MSFT  Latest AI Amazon Apps Biotech & Health Climate...          -0.8695   \n",
       "4   MSFT  Latest AI Amazon Apps Biotech & Health Climate...          -0.0522   \n",
       "\n",
       "   price_now  price_future  variation action  \n",
       "0     139.39        139.39        0.0   SELL  \n",
       "1     972.15        972.15        0.0   SELL  \n",
       "2     290.49        290.49        0.0    BUY  \n",
       "3     520.14        520.14        0.0   SELL  \n",
       "4     520.14        520.14        0.0   HOLD  "
      ]
     },
     "execution_count": 3,
     "metadata": {},
     "output_type": "execute_result"
    }
   ],
   "source": [
    "df.head()"
   ]
  },
  {
   "cell_type": "code",
   "execution_count": 5,
   "id": "3c166b07",
   "metadata": {},
   "outputs": [
    {
     "data": {
      "application/vnd.microsoft.datawrangler.viewer.v0+json": {
       "columns": [
        {
         "name": "action",
         "rawType": "object",
         "type": "string"
        },
        {
         "name": "count",
         "rawType": "int64",
         "type": "integer"
        }
       ],
       "ref": "e5926e83-5d49-4f43-b5ad-ef29afdb4810",
       "rows": [
        [
         "SELL",
         "8"
        ],
        [
         "HOLD",
         "4"
        ],
        [
         "BUY",
         "1"
        ]
       ],
       "shape": {
        "columns": 1,
        "rows": 3
       }
      },
      "text/plain": [
       "action\n",
       "SELL    8\n",
       "HOLD    4\n",
       "BUY     1\n",
       "Name: count, dtype: int64"
      ]
     },
     "execution_count": 5,
     "metadata": {},
     "output_type": "execute_result"
    }
   ],
   "source": [
    "df['action'].value_counts()"
   ]
  }
 ],
 "metadata": {
  "kernelspec": {
   "display_name": "venv",
   "language": "python",
   "name": "python3"
  },
  "language_info": {
   "codemirror_mode": {
    "name": "ipython",
    "version": 3
   },
   "file_extension": ".py",
   "mimetype": "text/x-python",
   "name": "python",
   "nbconvert_exporter": "python",
   "pygments_lexer": "ipython3",
   "version": "3.12.3"
  }
 },
 "nbformat": 4,
 "nbformat_minor": 5
}
